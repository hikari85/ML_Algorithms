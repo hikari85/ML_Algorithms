{
 "cells": [
  {
   "cell_type": "markdown",
   "metadata": {
    "id": "q-320PnYXSUo"
   },
   "source": [
    "# **A Deep Dive into Why GPUs Outpace CPUs**  A Hands-On Tutorial\n",
    "\n",
    "FLOPS is commonly used to quantify the computational power of processors and other computing devices. It is an important metric for tasks that involve complex mathematical calculations, such as scientific simulations, artificial intelligence and machine learning algorithms. <p>\n",
    "\n",
    "FLOPS stands for \"Floating Point Operations Per Second\" which means the number of floating-point calculations a computer system can perform in one second. The higher the FLOPS value, the faster the computer or processor can perform floating-point calculations, indicating better computational performance.\n",
    "<p>\n",
    "In this tutorial, let us use FLOPS as a metric to evaluate the performance of CPU versus GPU. We will begin by employing the DAXPY (Double-precision A*X plus Y) operation, a commonly used operation in numerical computing. This operation involves multiplying a scalar (A) with a vector (X) and adding the result to another vector (Y). We will calculate FLOPS to perform the DAXPY operation using both the CPU and GPU, respectively.\n",
    "<p>\n",
    "The DAXPY operation is executed using NumPy operations (A * X + Y). NumPy can leverage optimized implementations, and the actual computation may occur in optimized C or Fortran libraries. Therefore, a more effective way to compare speeds is by conducting matrix multiplications using TensorFlow. The second part of our code is designed to accomplish precisely this task. We will perform matrix multiplications of various-sized matrices and explore how the true advantage of GPUs lies in working with large matrices (datasets in general).\n",
    "\n"
   ]
  },
  {
   "cell_type": "markdown",
   "metadata": {
    "id": "vAoDcfzGbWLL"
   },
   "source": [
    "**Let us start by finding out the details of our current hadrware.**"
   ]
  },
  {
   "cell_type": "code",
   "execution_count": 1,
   "metadata": {
    "colab": {
     "base_uri": "https://localhost:8080/"
    },
    "id": "_H7MGDjXGtO1",
    "outputId": "2cf95152-ea61-4cad-cca2-271bb1d25f17"
   },
   "outputs": [
    {
     "name": "stdout",
     "output_type": "stream",
     "text": [
      "CPU Information:\n",
      "Physical Cores: 1\n",
      "Total Cores: 2\n",
      "CPU Frequency: 2199.998\n",
      "CPU Usage: 5.0\n",
      "\n",
      "GPU Information:\n",
      "compute_capability: (7, 5)\n",
      "device_name: Tesla T4\n"
     ]
    }
   ],
   "source": [
    "import psutil\n",
    "import tensorflow as tf\n",
    "\n",
    "# CPU Information\n",
    "cpu_info = {\n",
    "    \"Physical Cores\": psutil.cpu_count(logical=False),\n",
    "    \"Total Cores\": psutil.cpu_count(logical=True),\n",
    "    \"CPU Frequency\": psutil.cpu_freq().current,\n",
    "    \"CPU Usage\": psutil.cpu_percent(interval=1),\n",
    "}\n",
    "\n",
    "print(\"CPU Information:\")\n",
    "for key, value in cpu_info.items():\n",
    "    print(f\"{key}: {value}\")\n",
    "\n",
    "# GPU Information\n",
    "physical_devices = tf.config.experimental.list_physical_devices('GPU')\n",
    "\n",
    "if physical_devices:\n",
    "    gpu_info = tf.config.experimental.get_device_details(physical_devices[0])\n",
    "    print(\"\\nGPU Information:\")\n",
    "    for key, value in gpu_info.items():\n",
    "        print(f\"{key}: {value}\")\n",
    "else:\n",
    "    print(\"\\nGPU not available on this machine.\")\n"
   ]
  },
  {
   "cell_type": "markdown",
   "metadata": {
    "id": "TpS1oB3qQI4b"
   },
   "source": [
    "At the time of this testing, the GPU offered by Colab is Tesla T4 <br><p>\n",
    "**Specifications:** <br>\n",
    "* Turing Tensor Cores. 320. <br>\n",
    "* **NVIDIA CUDA cores. 2,560.** <br>\n",
    "* **Single Precision Performance (FP32) 8.1 TFLOPS.**<br>\n",
    "* Mixed Precision (FP16/FP32) 65 FP16 TFLOPS.<br>\n",
    "* INT8 Precision. 130 INT8 TOPS.<br>\n",
    "* INT4 Precision. 260 INT4 TOPS.<br>\n",
    "\n",
    "\n"
   ]
  },
  {
   "cell_type": "markdown",
   "metadata": {
    "id": "WrslgBCQWPjs"
   },
   "source": [
    "**Calculating FLOPS for CPU and GPU using DAXPY**"
   ]
  },
  {
   "cell_type": "code",
   "execution_count": 2,
   "metadata": {
    "colab": {
     "base_uri": "https://localhost:8080/"
    },
    "id": "XzHj_r9OGDRH",
    "outputId": "57d6fbd3-dafc-415e-fd11-084976bf87b9"
   },
   "outputs": [
    {
     "name": "stdout",
     "output_type": "stream",
     "text": [
      "CPU FLOPS: 1.73e+08\n",
      "GPU FLOPS: 1.52e+08\n",
      "GPU is 11.95% faster than CPU.\n"
     ]
    }
   ],
   "source": [
    "import numpy as np\n",
    "import time\n",
    "import tensorflow as tf\n",
    "\n",
    "def perform_daxpy(array_size, use_gpu=False):\n",
    "    if use_gpu:\n",
    "        device = '/device:GPU:0'\n",
    "    else:\n",
    "        device = '/device:CPU:0'\n",
    "\n",
    "    with tf.device(device):\n",
    "        # Create NumPy arrays for vectors X, Y, and a scalar A\n",
    "        A = 2.0  # Scalar\n",
    "        X = np.random.rand(array_size)\n",
    "        Y = np.random.rand(array_size)\n",
    "\n",
    "        # Measure the time taken for the DAXPY operation\n",
    "        start_time = time.time()\n",
    "        result = A * X + Y\n",
    "        end_time = time.time()\n",
    "\n",
    "        # Calculate FLOPS\n",
    "        elapsed_time = end_time - start_time\n",
    "        flops = array_size / elapsed_time\n",
    "\n",
    "        return flops\n",
    "\n",
    "\n",
    "# Define the size of the array for the operation\n",
    "array_size = 10**6  #System crashes for large arrays as they may exceed system memory.\n",
    "\n",
    "# Perform DAXPY on CPU\n",
    "cpu_flops = perform_daxpy(array_size, use_gpu=False)\n",
    "print(f\"CPU FLOPS: {cpu_flops:.2e}\")\n",
    "\n",
    "# Perform DAXPY on GPU (if available)\n",
    "if tf.config.experimental.list_physical_devices('GPU'):\n",
    "    gpu_flops = perform_daxpy(array_size, use_gpu=True)\n",
    "    print(f\"GPU FLOPS: {gpu_flops:.2e}\")\n",
    "    # Calculate percent difference\n",
    "    percent_difference = abs((gpu_flops - cpu_flops) / cpu_flops) * 100\n",
    "    print(f\"GPU is {percent_difference:.2f}% faster than CPU.\")\n",
    "else:\n",
    "    print(\"GPU not available on this machine.\")\n",
    "\n"
   ]
  },
  {
   "cell_type": "markdown",
   "metadata": {
    "id": "0odJ5clZb8Ri"
   },
   "source": [
    "We do not see a significant advantage of GPU over CPU. This is because DAXPY is not a suitable operation for this test. Moreover, increasing the array_size for this test beyond 10**6 (at the time of this test) demands additional RAM and crashes the system. Therefore, let us continue our CPU vs GPU speed test using matrix multiplication with the TensorFlow library."
   ]
  },
  {
   "cell_type": "markdown",
   "metadata": {
    "id": "VrMh_3RPcmx9"
   },
   "source": [
    "**Testing CPU vs GPU speed using matrix multiplication**"
   ]
  },
  {
   "cell_type": "markdown",
   "metadata": {
    "id": "jPU0yMMXK575"
   },
   "source": [
    "Here, we will verify the GPU speed advantage over CPU for different matrix sizes. The relative efficiency of the GPU compared to the CPU can vary based on the computational demands of the specific task. <p>\n",
    "In order to make sure we start with a common base line for each matrix multiplication task, we will clear the default graph and release the GPU memory. We will also disable the eager execution in TensorFlow for the matrix multiplication task. Please note that eager execution is a mode that allows operations to be executed immediately as they are called, instead of requiring them to be explicitly executed within a session. Eager execution is enabled by default in TensorFlow 2.x. By disabling eager execution, operations are added to a computation graph, and the graph is executed within a session."
   ]
  },
  {
   "cell_type": "code",
   "execution_count": 3,
   "metadata": {
    "colab": {
     "base_uri": "https://localhost:8080/"
    },
    "id": "30zogfV0R8NL",
    "outputId": "7826134b-c0be-4a7a-8d36-abb5ecb00c20"
   },
   "outputs": [
    {
     "name": "stderr",
     "output_type": "stream",
     "text": [
      "WARNING:tensorflow:From <ipython-input-3-1573563fef9e>:23: experimental_run_functions_eagerly (from tensorflow.python.eager.polymorphic_function.eager_function_run) is deprecated and will be removed in a future version.\n",
      "Instructions for updating:\n",
      "Use `tf.config.run_functions_eagerly` instead of the experimental version.\n"
     ]
    },
    {
     "name": "stdout",
     "output_type": "stream",
     "text": [
      "Matrix Size: 100, GPU TFLOPS: 1.5855563788123933e-05, CPU TFLOPS: 0.0011673543000278318\n",
      "GPU is -98.64% faster than CPU.\n",
      "\n",
      "Matrix Size: 200, GPU TFLOPS: 0.000524017803320163, CPU TFLOPS: 0.008458389715149988\n",
      "GPU is -93.80% faster than CPU.\n",
      "\n",
      "Matrix Size: 300, GPU TFLOPS: 0.02403867713861176, CPU TFLOPS: 0.012979508080229227\n",
      "GPU is 85.20% faster than CPU.\n",
      "\n",
      "Matrix Size: 400, GPU TFLOPS: 0.05692015606446141, CPU TFLOPS: 0.014730181139737153\n",
      "GPU is 286.42% faster than CPU.\n",
      "\n",
      "Matrix Size: 500, GPU TFLOPS: 0.07434600113442995, CPU TFLOPS: 0.0153581252288539\n",
      "GPU is 384.08% faster than CPU.\n",
      "\n",
      "Matrix Size: 600, GPU TFLOPS: 0.11092374214876033, CPU TFLOPS: 0.019716638135344237\n",
      "GPU is 462.59% faster than CPU.\n",
      "\n",
      "Matrix Size: 700, GPU TFLOPS: 0.16032164395163537, CPU TFLOPS: 0.0183773882363461\n",
      "GPU is 772.39% faster than CPU.\n",
      "\n",
      "Matrix Size: 800, GPU TFLOPS: 0.07548272927943761, CPU TFLOPS: 0.018239744242439685\n",
      "GPU is 313.84% faster than CPU.\n",
      "\n",
      "Matrix Size: 900, GPU TFLOPS: 0.2114336421533036, CPU TFLOPS: 0.01786134317826016\n",
      "GPU is 1083.75% faster than CPU.\n",
      "\n",
      "Matrix Size: 1000, GPU TFLOPS: 0.16217078121677267, CPU TFLOPS: 0.020346229501834862\n",
      "GPU is 697.06% faster than CPU.\n",
      "\n",
      "Matrix Size: 5000, GPU TFLOPS: 0.48297637433322077, CPU TFLOPS: 0.017639857529403856\n",
      "GPU is 2637.98% faster than CPU.\n",
      "\n",
      "Matrix Size: 7500, GPU TFLOPS: 0.7300889282603555, CPU TFLOPS: 0.01990308332940402\n",
      "GPU is 3568.22% faster than CPU.\n",
      "\n",
      "Matrix Size: 10000, GPU TFLOPS: 0.978763720134002, CPU TFLOPS: 0.019815180005500414\n",
      "GPU is 4839.46% faster than CPU.\n",
      "\n"
     ]
    }
   ],
   "source": [
    "import numpy as np\n",
    "import pandas as pd\n",
    "import time\n",
    "import tensorflow as tf\n",
    "import seaborn as sns\n",
    "import matplotlib.pyplot as plt\n",
    "\n",
    "def perform_matmul(matrix_size, use_gpu=False):\n",
    "    if use_gpu:\n",
    "        device = '/device:GPU:0'\n",
    "    else:\n",
    "        device = '/device:CPU:0'\n",
    "\n",
    "    with tf.device(device):\n",
    "        # Reset default graph and clear GPU memory\n",
    "        tf.compat.v1.reset_default_graph()\n",
    "\n",
    "        # Create NumPy arrays for matrices A and B\n",
    "        A = np.random.rand(matrix_size, matrix_size)\n",
    "        B = np.random.rand(matrix_size, matrix_size)\n",
    "\n",
    "        # Disable eager execution temporarily\n",
    "        tf.config.experimental_run_functions_eagerly(False)\n",
    "\n",
    "        # Measure the time taken for the matrix multiplication\n",
    "        start_time = time.time()\n",
    "        result = tf.matmul(A, B)\n",
    "        end_time = time.time()\n",
    "\n",
    "        # Enable eager execution again\n",
    "        tf.config.experimental_run_functions_eagerly(True)\n",
    "\n",
    "        # Calculate FLOPS\n",
    "        elapsed_time = end_time - start_time\n",
    "        flops = 2 * matrix_size**3 / elapsed_time\n",
    "\n",
    "        # Convert FLOPS to TFLOPS\n",
    "        tflops = flops / 1e12\n",
    "\n",
    "        return tflops\n",
    "\n",
    "# Matrix sizes to test\n",
    "matrix_sizes = [100, 200, 300, 400, 500, 600, 700, 800, 900, 1000,\n",
    "                5000, 7500, 10000]\n",
    "\n",
    "# Lists to store results\n",
    "data = {'Matrix Size': [], 'GPU TFLOPS': [], 'CPU TFLOPS': [], 'Percentage Speedup': []}\n",
    "\n",
    "# Loop through matrix sizes\n",
    "for matrix_size in matrix_sizes:\n",
    "    tflops_gpu = perform_matmul(matrix_size, use_gpu=True)\n",
    "    tflops_cpu = perform_matmul(matrix_size, use_gpu=False)\n",
    "\n",
    "    # Calculate percentage speedup\n",
    "    percentage_speedup = ((tflops_gpu - tflops_cpu) / tflops_cpu) * 100\n",
    "\n",
    "    # Store data in the dictionary\n",
    "    data['Matrix Size'].append(matrix_size)\n",
    "    data['GPU TFLOPS'].append(tflops_gpu)\n",
    "    data['CPU TFLOPS'].append(tflops_cpu)\n",
    "    data['Percentage Speedup'].append(percentage_speedup)\n",
    "\n",
    "    # Print results for each matrix size\n",
    "    print(f\"Matrix Size: {matrix_size}, GPU TFLOPS: {tflops_gpu}, CPU TFLOPS: {tflops_cpu}\")\n",
    "    print(f\"GPU is {percentage_speedup:.2f}% faster than CPU.\\n\")\n",
    "\n",
    "# Create a DataFrame from the collected data\n",
    "df = pd.DataFrame(data)\n",
    "\n"
   ]
  },
  {
   "cell_type": "code",
   "execution_count": null,
   "metadata": {
    "id": "tBtLHOPI_URZ"
   },
   "outputs": [],
   "source": []
  },
  {
   "cell_type": "markdown",
   "metadata": {
    "id": "c1DVEdwILzCG"
   },
   "source": [
    "How come CPU is faster than GPU for small matrix sizes? <br>\n",
    "For small matrices, the computational advantage of the GPU may not outweigh the associated overhead and warm-up time. As the matrix size increases, the GPU's parallel processing capability becomes more effective"
   ]
  },
  {
   "cell_type": "code",
   "execution_count": 4,
   "metadata": {
    "colab": {
     "base_uri": "https://localhost:8080/",
     "height": 607
    },
    "id": "ZIYZqt0nStCU",
    "outputId": "52c51d29-80b7-4e50-b59a-5caafc61a9fe"
   },
   "outputs": [
    {
     "data": {
      "image/png": "[encoded data removed]",
      "text/plain": [
       "<Figure size 1000x600 with 2 Axes>"
      ]
     },
     "metadata": {},
     "output_type": "display_data"
    }
   ],
   "source": [
    "# Plotting the results with CPU and GPU TFLOPS, and Percentage Speedup\n",
    "fig, ax1 = plt.subplots(figsize=(10, 6))\n",
    "\n",
    "# Plot GPU TFLOPS on the primary y-axis\n",
    "gpu_tflops_line, = ax1.plot(df['Matrix Size'], df['GPU TFLOPS'], marker='o', linestyle='-', color='blue', label='GPU TFLOPS')\n",
    "cpu_tflops_line, = ax1.plot(df['Matrix Size'], df['CPU TFLOPS'], marker='o', linestyle='-', color='green', label='CPU TFLOPS')\n",
    "ax1.set_xlabel('Matrix Size')\n",
    "ax1.set_ylabel('GPU/CPU TFLOPS', color='black')\n",
    "ax1.tick_params('y', colors='black')\n",
    "\n",
    "# Create a secondary y-axis for Percentage Speedup\n",
    "ax2 = ax1.twinx()\n",
    "speedup_line, = ax2.plot(df['Matrix Size'], df['Percentage Speedup'], marker='o', linestyle='-', color='red', label='GPU Speedup')\n",
    "ax2.set_ylabel('GPU Speedup (%)', color='red')\n",
    "ax2.tick_params('y', colors='red')\n",
    "\n",
    "# Add legend\n",
    "lines = [gpu_tflops_line, cpu_tflops_line, speedup_line]\n",
    "labels = [line.get_label() for line in lines]\n",
    "ax1.legend(lines, labels, loc='upper left')\n",
    "\n",
    "plt.xscale('log')  # Use a logarithmic scale for better visualization\n",
    "plt.title('GPU Speedup Over CPU for Matrix Multiplication')\n",
    "fig.tight_layout()\n",
    "plt.show()\n"
   ]
  },
  {
   "cell_type": "markdown",
   "metadata": {
    "id": "WGAgFyaFhdyd"
   },
   "source": [
    "**Summary of our experiment:**\n",
    " <p>\n",
    " GPU is highly effective in handling larger and more computationally intensive tasks. On the other hand, the CPU's performance appears to plateau with the matrix size."
   ]
  },
  {
   "cell_type": "markdown",
   "metadata": {
    "id": "qw2g644QD6Dv"
   },
   "source": [
    "### Write an code for the follwoing  \n",
    "\n",
    "You are a data scientist working at a company that develops image recognition systems. Your team has been tasked with building an image classification model to recognize handwritten digits from the MNIST dataset. The goal is to build a model that can classify digits (0-9) accurately and efficiently. The model should be trained both on a CPU and a GPU to compare the performance and determine the best hardware setup for deployment in production. You decide to use a Convolutional Neural Network (CNN) architecture for this task, as it is known to perform well with image data.\n",
    "\n",
    "The model architecture consists of several layers designed for image classification tasks, such as recognizing digits from the MNIST dataset. The architecture begins with a 2D convolutional layer (Conv2D), which applies 32 filters of size 3x3 to the input image (28x28x1), followed by the ReLU activation function to introduce non-linearity. This is followed by a max-pooling layer (MaxPooling2D) with a pool size of 2x2, reducing the spatial dimensions of the feature maps while retaining important information. A second convolutional layer with 64 filters of size 3x3 is then applied, again using ReLU activation. Another max-pooling layer  (2x2 ) follows to further downsample the feature maps. The output of the convolutional layers is then flattened into a one-dimensional vector using the Flatten layer, which is fed into the fully connected dense layers. The first dense layer has 64 neurons with ReLU activation, allowing the model to learn complex representations, while the final dense layer has 10 neurons with a softmax activation function, providing probabilities for each of the 10 possible digit classes.\n",
    "\n",
    "\n",
    "The training process is measured on both CPU and GPU, and you are also tracking the time it takes to train the model on each device."
   ]
  },
  {
   "cell_type": "code",
   "execution_count": 1,
   "metadata": {
    "colab": {
     "base_uri": "https://localhost:8080/"
    },
    "id": "GG-duekrEmtd",
    "outputId": "d195c912-e5c2-4b0a-b79e-b314d0485eeb"
   },
   "outputs": [
    {
     "name": "stdout",
     "output_type": "stream",
     "text": [
      "WARNING:tensorflow:From C:\\Users\\hrbhat\\AppData\\Roaming\\Python\\Python311\\site-packages\\keras\\src\\losses.py:2976: The name tf.losses.sparse_softmax_cross_entropy is deprecated. Please use tf.compat.v1.losses.sparse_softmax_cross_entropy instead.\n",
      "\n",
      "WARNING:tensorflow:From C:\\Users\\hrbhat\\AppData\\Roaming\\Python\\Python311\\site-packages\\keras\\src\\backend.py:873: The name tf.get_default_graph is deprecated. Please use tf.compat.v1.get_default_graph instead.\n",
      "\n",
      "WARNING:tensorflow:From C:\\Users\\hrbhat\\AppData\\Roaming\\Python\\Python311\\site-packages\\keras\\src\\layers\\pooling\\max_pooling2d.py:161: The name tf.nn.max_pool is deprecated. Please use tf.nn.max_pool2d instead.\n",
      "\n"
     ]
    }
   ],
   "source": [
    "from tensorflow.keras.models import Sequential\n",
    "from tensorflow.keras.layers import Conv2D, MaxPooling2D, Flatten, Dense\n",
    "from tensorflow.keras.datasets import mnist\n",
    "from tensorflow.keras.utils import to_categorical\n",
    "model = Sequential([\n",
    "    Conv2D(32, (3, 3), activation='relu', input_shape=(28, 28, 1)),\n",
    "    MaxPooling2D(pool_size=(2, 2)),\n",
    "\n",
    "    Conv2D(64, (3, 3), activation='relu'),\n",
    "    MaxPooling2D(pool_size=(2, 2)),\n",
    "\n",
    "    Flatten(),\n",
    "\n",
    "    Dense(64, activation='relu'),\n",
    "    Dense(10, activation='softmax')\n",
    "])"
   ]
  },
  {
   "cell_type": "code",
   "execution_count": 3,
   "metadata": {},
   "outputs": [
    {
     "name": "stdout",
     "output_type": "stream",
     "text": [
      "WARNING:tensorflow:Compiled the loaded model, but the compiled metrics have yet to be built. `model.compile_metrics` will be empty until you train or evaluate the model.\n"
     ]
    },
    {
     "name": "stderr",
     "output_type": "stream",
     "text": [
      "C:\\Users\\hrbhat\\AppData\\Roaming\\Python\\Python311\\site-packages\\keras\\src\\engine\\training.py:3103: UserWarning: You are saving your model as an HDF5 file via `model.save()`. This file format is considered legacy. We recommend using instead the native Keras format, e.g. `model.save('my_model.keras')`.\n",
      "  saving_api.save_model(\n"
     ]
    }
   ],
   "source": [
    "model.save(\"model1.h5\")"
   ]
  },
  {
   "cell_type": "code",
   "execution_count": 6,
   "metadata": {
    "colab": {
     "base_uri": "https://localhost:8080/"
    },
    "id": "BVQ2w-LnEp-1",
    "outputId": "842026bf-a90c-4a1f-f391-9e08f209fd3b"
   },
   "outputs": [
    {
     "name": "stdout",
     "output_type": "stream",
     "text": [
      "Downloading data from https://storage.googleapis.com/tensorflow/tf-keras-datasets/mnist.npz\n",
      "\u001b[1m11490434/11490434\u001b[0m \u001b[32m━━━━━━━━━━━━━━━━━━━━\u001b[0m\u001b[37m\u001b[0m \u001b[1m2s\u001b[0m 0us/step\n",
      "Training on CPU...\n"
     ]
    },
    {
     "name": "stderr",
     "output_type": "stream",
     "text": [
      "/usr/local/lib/python3.11/dist-packages/tensorflow/python/data/ops/structured_function.py:258: UserWarning: Even though the `tf.config.experimental_run_functions_eagerly` option is set, this option does not apply to tf.data functions. To force eager execution of tf.data functions, please use `tf.data.experimental.enable_debug_mode()`.\n",
      "  warnings.warn(\n"
     ]
    },
    {
     "name": "stdout",
     "output_type": "stream",
     "text": [
      "Epoch 1/5\n",
      "\u001b[1m469/469\u001b[0m \u001b[32m━━━━━━━━━━━━━━━━━━━━\u001b[0m\u001b[37m\u001b[0m \u001b[1m81s\u001b[0m 173ms/step - accuracy: 0.8523 - loss: 0.5302 - val_accuracy: 0.9799 - val_loss: 0.0612\n",
      "Epoch 2/5\n",
      "\u001b[1m469/469\u001b[0m \u001b[32m━━━━━━━━━━━━━━━━━━━━\u001b[0m\u001b[37m\u001b[0m \u001b[1m80s\u001b[0m 170ms/step - accuracy: 0.9791 - loss: 0.0669 - val_accuracy: 0.9844 - val_loss: 0.0457\n",
      "Epoch 3/5\n",
      "\u001b[1m469/469\u001b[0m \u001b[32m━━━━━━━━━━━━━━━━━━━━\u001b[0m\u001b[37m\u001b[0m \u001b[1m80s\u001b[0m 166ms/step - accuracy: 0.9859 - loss: 0.0459 - val_accuracy: 0.9879 - val_loss: 0.0394\n",
      "Epoch 4/5\n",
      "\u001b[1m469/469\u001b[0m \u001b[32m━━━━━━━━━━━━━━━━━━━━\u001b[0m\u001b[37m\u001b[0m \u001b[1m84s\u001b[0m 170ms/step - accuracy: 0.9898 - loss: 0.0339 - val_accuracy: 0.9866 - val_loss: 0.0398\n",
      "Epoch 5/5\n",
      "\u001b[1m469/469\u001b[0m \u001b[32m━━━━━━━━━━━━━━━━━━━━\u001b[0m\u001b[37m\u001b[0m \u001b[1m82s\u001b[0m 170ms/step - accuracy: 0.9912 - loss: 0.0276 - val_accuracy: 0.9896 - val_loss: 0.0277\n",
      "Training time on CPU: 409.22 seconds\n",
      "Training on GPU...\n",
      "Epoch 1/5\n",
      "\u001b[1m469/469\u001b[0m \u001b[32m━━━━━━━━━━━━━━━━━━━━\u001b[0m\u001b[37m\u001b[0m \u001b[1m36s\u001b[0m 71ms/step - accuracy: 0.9928 - loss: 0.0216 - val_accuracy: 0.9899 - val_loss: 0.0289\n",
      "Epoch 2/5\n",
      "\u001b[1m469/469\u001b[0m \u001b[32m━━━━━━━━━━━━━━━━━━━━\u001b[0m\u001b[37m\u001b[0m \u001b[1m33s\u001b[0m 70ms/step - accuracy: 0.9941 - loss: 0.0170 - val_accuracy: 0.9856 - val_loss: 0.0452\n",
      "Epoch 3/5\n",
      "\u001b[1m469/469\u001b[0m \u001b[32m━━━━━━━━━━━━━━━━━━━━\u001b[0m\u001b[37m\u001b[0m \u001b[1m34s\u001b[0m 72ms/step - accuracy: 0.9947 - loss: 0.0147 - val_accuracy: 0.9895 - val_loss: 0.0330\n",
      "Epoch 4/5\n",
      "\u001b[1m469/469\u001b[0m \u001b[32m━━━━━━━━━━━━━━━━━━━━\u001b[0m\u001b[37m\u001b[0m \u001b[1m32s\u001b[0m 69ms/step - accuracy: 0.9966 - loss: 0.0114 - val_accuracy: 0.9906 - val_loss: 0.0299\n",
      "Epoch 5/5\n",
      "\u001b[1m469/469\u001b[0m \u001b[32m━━━━━━━━━━━━━━━━━━━━\u001b[0m\u001b[37m\u001b[0m \u001b[1m33s\u001b[0m 70ms/step - accuracy: 0.9968 - loss: 0.0095 - val_accuracy: 0.9908 - val_loss: 0.0326\n",
      "Training time on GPU: 168.08 seconds\n",
      "\u001b[1m313/313\u001b[0m \u001b[32m━━━━━━━━━━━━━━━━━━━━\u001b[0m\u001b[37m\u001b[0m \u001b[1m7s\u001b[0m 22ms/step - accuracy: 0.9886 - loss: 0.0405\n",
      "Test accuracy: 0.9908\n",
      "Training Performance Comparison:\n",
      "CPU Time: 409.22 seconds\n",
      "GPU Time: 168.08 seconds\n"
     ]
    }
   ],
   "source": [
    "import tensorflow as tf\n",
    "from tensorflow.keras.models import Sequential\n",
    "from tensorflow.keras.layers import Conv2D, MaxPooling2D, Flatten, Dense\n",
    "from tensorflow.keras.datasets import mnist\n",
    "from tensorflow.keras.utils import to_categorical\n",
    "import time\n",
    "\n",
    "# Load and preprocess the MNIST dataset\n",
    "(x_train, y_train), (x_test, y_test) = mnist.load_data()\n",
    "\n",
    "# Reshape the data to add the channel dimension for grayscale (28x28x1)\n",
    "x_train = x_train.reshape(-1, 28, 28, 1).astype('float32') / 255.0\n",
    "x_test = x_test.reshape(-1, 28, 28, 1).astype('float32') / 255.0\n",
    "\n",
    "# One-hot encode the labels\n",
    "y_train = to_categorical(y_train, 10)\n",
    "y_test = to_categorical(y_test, 10)\n",
    "\n",
    "# Build the CNN model\n",
    "model = Sequential([\n",
    "    Conv2D(32, (3, 3), activation='relu', input_shape=(28, 28, 1)),\n",
    "    MaxPooling2D(pool_size=(2, 2)),\n",
    "\n",
    "    Conv2D(64, (3, 3), activation='relu'),\n",
    "    MaxPooling2D(pool_size=(2, 2)),\n",
    "\n",
    "    Flatten(),\n",
    "\n",
    "    Dense(64, activation='relu'),\n",
    "    Dense(10, activation='softmax')\n",
    "])\n",
    "\n",
    "# Compile the model\n",
    "model.compile(optimizer='adam', loss='categorical_crossentropy', metrics=['accuracy'])\n",
    "\n",
    "# Training on CPU\n",
    "with tf.device('/CPU:0'):\n",
    "    print(\"Training on CPU...\")\n",
    "    start_time = time.time()\n",
    "    history_cpu = model.fit(x_train, y_train, validation_data=(x_test, y_test), epochs=5, batch_size=128, verbose=1)\n",
    "    cpu_time = time.time() - start_time\n",
    "    print(f\"Training time on CPU: {cpu_time:.2f} seconds\")\n",
    "\n",
    "# Training on GPU (if available)\n",
    "if tf.config.list_physical_devices('GPU'):\n",
    "    with tf.device('/GPU:0'):\n",
    "        print(\"Training on GPU...\")\n",
    "        start_time = time.time()\n",
    "        history_gpu = model.fit(x_train, y_train, validation_data=(x_test, y_test), epochs=5, batch_size=128, verbose=1)\n",
    "        gpu_time = time.time() - start_time\n",
    "        print(f\"Training time on GPU: {gpu_time:.2f} seconds\")\n",
    "else:\n",
    "    print(\"GPU not available.\")\n",
    "\n",
    "# Evaluate the model on test data\n",
    "test_loss, test_acc = model.evaluate(x_test, y_test)\n",
    "print(f\"Test accuracy: {test_acc:.4f}\")\n",
    "\n",
    "# Performance comparison\n",
    "print(\"Training Performance Comparison:\")\n",
    "print(f\"CPU Time: {cpu_time:.2f} seconds\")\n",
    "if 'gpu_time' in locals():\n",
    "    print(f\"GPU Time: {gpu_time:.2f} seconds\")\n"
   ]
  }
 ],
 "metadata": {
  "accelerator": "GPU",
  "colab": {
   "gpuType": "T4",
   "provenance": []
  },
  "kernelspec": {
   "display_name": "Python 3",
   "name": "python3"
  },
  "language_info": {
   "codemirror_mode": {
    "name": "ipython",
    "version": 3
   },
   "file_extension": ".py",
   "mimetype": "text/x-python",
   "name": "python",
   "nbconvert_exporter": "python",
   "pygments_lexer": "ipython3",
   "version": "3.11.5"
  }
 },
 "nbformat": 4,
 "nbformat_minor": 0
}
